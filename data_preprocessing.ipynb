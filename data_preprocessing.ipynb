{
 "cells": [
  {
   "cell_type": "code",
   "execution_count": 35,
   "metadata": {},
   "outputs": [],
   "source": [
    "import pandas as pd\n",
    "import numpy as np\n",
    "import pandas as pd\n",
    "import matplotlib.pyplot as plt\n",
    "import seaborn as sns\n",
    "from sklearn.preprocessing import StandardScaler\n",
    "from sklearn.model_selection import train_test_split\n",
    "from sklearn.linear_model import LinearRegression, Ridge, Lasso\n",
    "from sklearn.metrics import mean_squared_error\n",
    "from sklearn.tree import DecisionTreeRegressor\n",
    "from sklearn.ensemble import RandomForestRegressor\n",
    "from sklearn.svm import SVR\n"
   ]
  },
  {
   "cell_type": "code",
   "execution_count": 2,
   "metadata": {},
   "outputs": [],
   "source": [
    "data = pd.read_csv('report_2018-2019.csv')"
   ]
  },
  {
   "cell_type": "code",
   "execution_count": 3,
   "metadata": {},
   "outputs": [
    {
     "data": {
      "text/html": [
       "<div>\n",
       "<style scoped>\n",
       "    .dataframe tbody tr th:only-of-type {\n",
       "        vertical-align: middle;\n",
       "    }\n",
       "\n",
       "    .dataframe tbody tr th {\n",
       "        vertical-align: top;\n",
       "    }\n",
       "\n",
       "    .dataframe thead th {\n",
       "        text-align: right;\n",
       "    }\n",
       "</style>\n",
       "<table border=\"1\" class=\"dataframe\">\n",
       "  <thead>\n",
       "    <tr style=\"text-align: right;\">\n",
       "      <th></th>\n",
       "      <th>Overall rank</th>\n",
       "      <th>Country or region</th>\n",
       "      <th>Year</th>\n",
       "      <th>Score</th>\n",
       "      <th>GDP per capita</th>\n",
       "      <th>Social support</th>\n",
       "      <th>Healthy life expectancy</th>\n",
       "      <th>Freedom to make life choices</th>\n",
       "      <th>Generosity</th>\n",
       "      <th>Perceptions of corruption</th>\n",
       "    </tr>\n",
       "  </thead>\n",
       "  <tbody>\n",
       "    <tr>\n",
       "      <th>0</th>\n",
       "      <td>154</td>\n",
       "      <td>Afghanistan</td>\n",
       "      <td>2019</td>\n",
       "      <td>3.203</td>\n",
       "      <td>0.350</td>\n",
       "      <td>0.517</td>\n",
       "      <td>0.361</td>\n",
       "      <td>0.000</td>\n",
       "      <td>0.158</td>\n",
       "      <td>0.025</td>\n",
       "    </tr>\n",
       "    <tr>\n",
       "      <th>1</th>\n",
       "      <td>145</td>\n",
       "      <td>Afghanistan</td>\n",
       "      <td>2018</td>\n",
       "      <td>3.632</td>\n",
       "      <td>0.332</td>\n",
       "      <td>0.537</td>\n",
       "      <td>0.255</td>\n",
       "      <td>0.085</td>\n",
       "      <td>0.191</td>\n",
       "      <td>0.036</td>\n",
       "    </tr>\n",
       "    <tr>\n",
       "      <th>2</th>\n",
       "      <td>107</td>\n",
       "      <td>Albania</td>\n",
       "      <td>2019</td>\n",
       "      <td>4.719</td>\n",
       "      <td>0.947</td>\n",
       "      <td>0.848</td>\n",
       "      <td>0.874</td>\n",
       "      <td>0.383</td>\n",
       "      <td>0.178</td>\n",
       "      <td>0.027</td>\n",
       "    </tr>\n",
       "    <tr>\n",
       "      <th>3</th>\n",
       "      <td>112</td>\n",
       "      <td>Albania</td>\n",
       "      <td>2018</td>\n",
       "      <td>4.586</td>\n",
       "      <td>0.916</td>\n",
       "      <td>0.817</td>\n",
       "      <td>0.790</td>\n",
       "      <td>0.419</td>\n",
       "      <td>0.149</td>\n",
       "      <td>0.032</td>\n",
       "    </tr>\n",
       "    <tr>\n",
       "      <th>4</th>\n",
       "      <td>88</td>\n",
       "      <td>Algeria</td>\n",
       "      <td>2019</td>\n",
       "      <td>5.211</td>\n",
       "      <td>1.002</td>\n",
       "      <td>1.160</td>\n",
       "      <td>0.785</td>\n",
       "      <td>0.086</td>\n",
       "      <td>0.073</td>\n",
       "      <td>0.114</td>\n",
       "    </tr>\n",
       "  </tbody>\n",
       "</table>\n",
       "</div>"
      ],
      "text/plain": [
       "   Overall rank Country or region  Year  Score  GDP per capita  \\\n",
       "0           154       Afghanistan  2019  3.203           0.350   \n",
       "1           145       Afghanistan  2018  3.632           0.332   \n",
       "2           107           Albania  2019  4.719           0.947   \n",
       "3           112           Albania  2018  4.586           0.916   \n",
       "4            88           Algeria  2019  5.211           1.002   \n",
       "\n",
       "   Social support  Healthy life expectancy  Freedom to make life choices  \\\n",
       "0           0.517                    0.361                         0.000   \n",
       "1           0.537                    0.255                         0.085   \n",
       "2           0.848                    0.874                         0.383   \n",
       "3           0.817                    0.790                         0.419   \n",
       "4           1.160                    0.785                         0.086   \n",
       "\n",
       "   Generosity  Perceptions of corruption  \n",
       "0       0.158                      0.025  \n",
       "1       0.191                      0.036  \n",
       "2       0.178                      0.027  \n",
       "3       0.149                      0.032  \n",
       "4       0.073                      0.114  "
      ]
     },
     "execution_count": 3,
     "metadata": {},
     "output_type": "execute_result"
    }
   ],
   "source": [
    "data.head()"
   ]
  },
  {
   "cell_type": "code",
   "execution_count": 4,
   "metadata": {},
   "outputs": [
    {
     "data": {
      "text/html": [
       "<div>\n",
       "<style scoped>\n",
       "    .dataframe tbody tr th:only-of-type {\n",
       "        vertical-align: middle;\n",
       "    }\n",
       "\n",
       "    .dataframe tbody tr th {\n",
       "        vertical-align: top;\n",
       "    }\n",
       "\n",
       "    .dataframe thead th {\n",
       "        text-align: right;\n",
       "    }\n",
       "</style>\n",
       "<table border=\"1\" class=\"dataframe\">\n",
       "  <thead>\n",
       "    <tr style=\"text-align: right;\">\n",
       "      <th></th>\n",
       "      <th>Overall rank</th>\n",
       "      <th>Country or region</th>\n",
       "      <th>Year</th>\n",
       "      <th>Score</th>\n",
       "      <th>GDP per capita</th>\n",
       "      <th>Social support</th>\n",
       "      <th>Healthy life expectancy</th>\n",
       "      <th>Freedom to make life choices</th>\n",
       "      <th>Generosity</th>\n",
       "      <th>Perceptions of corruption</th>\n",
       "    </tr>\n",
       "  </thead>\n",
       "  <tbody>\n",
       "    <tr>\n",
       "      <th>307</th>\n",
       "      <td>152</td>\n",
       "      <td>Yemen</td>\n",
       "      <td>2018</td>\n",
       "      <td>3.355</td>\n",
       "      <td>0.442</td>\n",
       "      <td>1.073</td>\n",
       "      <td>0.343</td>\n",
       "      <td>0.244</td>\n",
       "      <td>0.083</td>\n",
       "      <td>0.064</td>\n",
       "    </tr>\n",
       "    <tr>\n",
       "      <th>308</th>\n",
       "      <td>138</td>\n",
       "      <td>Zambia</td>\n",
       "      <td>2019</td>\n",
       "      <td>4.107</td>\n",
       "      <td>0.578</td>\n",
       "      <td>1.058</td>\n",
       "      <td>0.426</td>\n",
       "      <td>0.431</td>\n",
       "      <td>0.247</td>\n",
       "      <td>0.087</td>\n",
       "    </tr>\n",
       "    <tr>\n",
       "      <th>309</th>\n",
       "      <td>125</td>\n",
       "      <td>Zambia</td>\n",
       "      <td>2018</td>\n",
       "      <td>4.377</td>\n",
       "      <td>0.562</td>\n",
       "      <td>1.047</td>\n",
       "      <td>0.295</td>\n",
       "      <td>0.503</td>\n",
       "      <td>0.221</td>\n",
       "      <td>0.082</td>\n",
       "    </tr>\n",
       "    <tr>\n",
       "      <th>310</th>\n",
       "      <td>146</td>\n",
       "      <td>Zimbabwe</td>\n",
       "      <td>2019</td>\n",
       "      <td>3.663</td>\n",
       "      <td>0.366</td>\n",
       "      <td>1.114</td>\n",
       "      <td>0.433</td>\n",
       "      <td>0.361</td>\n",
       "      <td>0.151</td>\n",
       "      <td>0.089</td>\n",
       "    </tr>\n",
       "    <tr>\n",
       "      <th>311</th>\n",
       "      <td>144</td>\n",
       "      <td>Zimbabwe</td>\n",
       "      <td>2018</td>\n",
       "      <td>3.692</td>\n",
       "      <td>0.357</td>\n",
       "      <td>1.094</td>\n",
       "      <td>0.248</td>\n",
       "      <td>0.406</td>\n",
       "      <td>0.132</td>\n",
       "      <td>0.099</td>\n",
       "    </tr>\n",
       "  </tbody>\n",
       "</table>\n",
       "</div>"
      ],
      "text/plain": [
       "     Overall rank Country or region  Year  Score  GDP per capita  \\\n",
       "307           152             Yemen  2018  3.355           0.442   \n",
       "308           138            Zambia  2019  4.107           0.578   \n",
       "309           125            Zambia  2018  4.377           0.562   \n",
       "310           146          Zimbabwe  2019  3.663           0.366   \n",
       "311           144          Zimbabwe  2018  3.692           0.357   \n",
       "\n",
       "     Social support  Healthy life expectancy  Freedom to make life choices  \\\n",
       "307           1.073                    0.343                         0.244   \n",
       "308           1.058                    0.426                         0.431   \n",
       "309           1.047                    0.295                         0.503   \n",
       "310           1.114                    0.433                         0.361   \n",
       "311           1.094                    0.248                         0.406   \n",
       "\n",
       "     Generosity  Perceptions of corruption  \n",
       "307       0.083                      0.064  \n",
       "308       0.247                      0.087  \n",
       "309       0.221                      0.082  \n",
       "310       0.151                      0.089  \n",
       "311       0.132                      0.099  "
      ]
     },
     "execution_count": 4,
     "metadata": {},
     "output_type": "execute_result"
    }
   ],
   "source": [
    "data.tail()"
   ]
  },
  {
   "cell_type": "code",
   "execution_count": 11,
   "metadata": {},
   "outputs": [],
   "source": [
    "X = data.drop(['Overall rank', 'Country or region', 'Score', 'Year'],axis=1)\n",
    "Y = data['Score']"
   ]
  },
  {
   "cell_type": "code",
   "execution_count": 6,
   "metadata": {},
   "outputs": [
    {
     "data": {
      "text/html": [
       "<div>\n",
       "<style scoped>\n",
       "    .dataframe tbody tr th:only-of-type {\n",
       "        vertical-align: middle;\n",
       "    }\n",
       "\n",
       "    .dataframe tbody tr th {\n",
       "        vertical-align: top;\n",
       "    }\n",
       "\n",
       "    .dataframe thead th {\n",
       "        text-align: right;\n",
       "    }\n",
       "</style>\n",
       "<table border=\"1\" class=\"dataframe\">\n",
       "  <thead>\n",
       "    <tr style=\"text-align: right;\">\n",
       "      <th></th>\n",
       "      <th>GDP per capita</th>\n",
       "      <th>Social support</th>\n",
       "      <th>Healthy life expectancy</th>\n",
       "      <th>Freedom to make life choices</th>\n",
       "      <th>Generosity</th>\n",
       "      <th>Perceptions of corruption</th>\n",
       "    </tr>\n",
       "  </thead>\n",
       "  <tbody>\n",
       "    <tr>\n",
       "      <th>0</th>\n",
       "      <td>0.350</td>\n",
       "      <td>0.517</td>\n",
       "      <td>0.361</td>\n",
       "      <td>0.000</td>\n",
       "      <td>0.158</td>\n",
       "      <td>0.025</td>\n",
       "    </tr>\n",
       "    <tr>\n",
       "      <th>1</th>\n",
       "      <td>0.332</td>\n",
       "      <td>0.537</td>\n",
       "      <td>0.255</td>\n",
       "      <td>0.085</td>\n",
       "      <td>0.191</td>\n",
       "      <td>0.036</td>\n",
       "    </tr>\n",
       "    <tr>\n",
       "      <th>2</th>\n",
       "      <td>0.947</td>\n",
       "      <td>0.848</td>\n",
       "      <td>0.874</td>\n",
       "      <td>0.383</td>\n",
       "      <td>0.178</td>\n",
       "      <td>0.027</td>\n",
       "    </tr>\n",
       "    <tr>\n",
       "      <th>3</th>\n",
       "      <td>0.916</td>\n",
       "      <td>0.817</td>\n",
       "      <td>0.790</td>\n",
       "      <td>0.419</td>\n",
       "      <td>0.149</td>\n",
       "      <td>0.032</td>\n",
       "    </tr>\n",
       "    <tr>\n",
       "      <th>4</th>\n",
       "      <td>1.002</td>\n",
       "      <td>1.160</td>\n",
       "      <td>0.785</td>\n",
       "      <td>0.086</td>\n",
       "      <td>0.073</td>\n",
       "      <td>0.114</td>\n",
       "    </tr>\n",
       "  </tbody>\n",
       "</table>\n",
       "</div>"
      ],
      "text/plain": [
       "   GDP per capita  Social support  Healthy life expectancy  \\\n",
       "0           0.350           0.517                    0.361   \n",
       "1           0.332           0.537                    0.255   \n",
       "2           0.947           0.848                    0.874   \n",
       "3           0.916           0.817                    0.790   \n",
       "4           1.002           1.160                    0.785   \n",
       "\n",
       "   Freedom to make life choices  Generosity  Perceptions of corruption  \n",
       "0                         0.000       0.158                      0.025  \n",
       "1                         0.085       0.191                      0.036  \n",
       "2                         0.383       0.178                      0.027  \n",
       "3                         0.419       0.149                      0.032  \n",
       "4                         0.086       0.073                      0.114  "
      ]
     },
     "execution_count": 6,
     "metadata": {},
     "output_type": "execute_result"
    }
   ],
   "source": [
    "X.head()"
   ]
  },
  {
   "cell_type": "code",
   "execution_count": 7,
   "metadata": {},
   "outputs": [
    {
     "data": {
      "text/plain": [
       "0    3.203\n",
       "1    3.632\n",
       "2    4.719\n",
       "3    4.586\n",
       "4    5.211\n",
       "Name: Score, dtype: float64"
      ]
     },
     "execution_count": 7,
     "metadata": {},
     "output_type": "execute_result"
    }
   ],
   "source": [
    "Y.head()"
   ]
  },
  {
   "cell_type": "code",
   "execution_count": 8,
   "metadata": {},
   "outputs": [
    {
     "data": {
      "image/png": "[encoded data removed]",
      "text/plain": [
       "<Figure size 720x576 with 2 Axes>"
      ]
     },
     "metadata": {
      "needs_background": "light"
     },
     "output_type": "display_data"
    }
   ],
   "source": [
    "correlation_matrix = np.corrcoef(X, Y, rowvar=False)\n",
    "plt.figure(figsize=(10, 8))\n",
    "sns.heatmap(correlation_matrix, annot=True, fmt=\".2f\", cmap=\"coolwarm\")\n",
    "plt.title(\"Matriz de Correlación\")\n",
    "plt.show()"
   ]
  },
  {
   "cell_type": "code",
   "execution_count": 12,
   "metadata": {},
   "outputs": [],
   "source": [
    "X_train, X_test, y_train, y_test = train_test_split(X, Y, test_size=0.3, random_state=1234)"
   ]
  },
  {
   "cell_type": "code",
   "execution_count": 13,
   "metadata": {},
   "outputs": [],
   "source": [
    "scaler = StandardScaler()"
   ]
  },
  {
   "cell_type": "code",
   "execution_count": 23,
   "metadata": {},
   "outputs": [],
   "source": [
    "X_train_scaled = scaler.fit_transform(X_train)\n",
    "X_test_scaled = scaler.transform(X_test)"
   ]
  },
  {
   "cell_type": "code",
   "execution_count": 24,
   "metadata": {},
   "outputs": [
    {
     "data": {
      "text/plain": [
       "LinearRegression()"
      ]
     },
     "execution_count": 24,
     "metadata": {},
     "output_type": "execute_result"
    }
   ],
   "source": [
    "model = LinearRegression()\n",
    "model.fit(X_train_scaled, y_train)\n"
   ]
  },
  {
   "cell_type": "code",
   "execution_count": 25,
   "metadata": {},
   "outputs": [],
   "source": [
    "y_pred_train = model.predict(X_train_scaled)\n",
    "y_pred_test = model.predict(X_test_scaled)"
   ]
  },
  {
   "cell_type": "code",
   "execution_count": 28,
   "metadata": {},
   "outputs": [
    {
     "name": "stdout",
     "output_type": "stream",
     "text": [
      "Training MSE: 0.29409991649019557\n",
      "Test MSE: 0.21626492365764233\n",
      "Coefficient: [0.44195339 0.31530097 0.18027752 0.2144765  0.09038645 0.07568558]\n",
      "Intercept: 5.349344036697248\n"
     ]
    }
   ],
   "source": [
    "mse_train = mean_squared_error(y_train, y_pred_train)\n",
    "mse_test = mean_squared_error(y_test, y_pred_test)\n",
    "\n",
    "print(f'Training MSE: {mse_train}')\n",
    "print(f'Test MSE: {mse_test}')\n",
    "print(f'Coefficient: {model.coef_}')\n",
    "print(f'Intercept: {model.intercept_}')"
   ]
  },
  {
   "cell_type": "code",
   "execution_count": 36,
   "metadata": {},
   "outputs": [
    {
     "name": "stdout",
     "output_type": "stream",
     "text": [
      "Training Linear Regression...\n",
      "Linear Regression - Training MSE: 0.29409991649019557\n",
      "Linear Regression - Test MSE: 0.21626492365764233\n",
      "------\n",
      "Training Lasso Regression...\n",
      "Lasso Regression - Training MSE: 0.3196091004490806\n",
      "Lasso Regression - Test MSE: 0.22531186939169476\n",
      "------\n",
      "Training Decision Tree...\n",
      "Decision Tree - Training MSE: 0.0\n",
      "Decision Tree - Test MSE: 0.3517143829787233\n",
      "------\n",
      "Training Random Forest...\n",
      "Random Forest - Training MSE: 0.035863259108715365\n",
      "Random Forest - Test MSE: 0.18901256712872314\n",
      "------\n",
      "Training Support Vector Regression...\n",
      "Support Vector Regression - Training MSE: 0.1634804729757807\n",
      "Support Vector Regression - Test MSE: 0.17724473351721312\n",
      "------\n"
     ]
    }
   ],
   "source": [
    "models = {\n",
    "    'Linear Regression': LinearRegression(),\n",
    "    # 'Ridge Regression': Ridge(alpha=1.0),\n",
    "    'Lasso Regression': Lasso(alpha=0.1),\n",
    "    'Decision Tree': DecisionTreeRegressor(),\n",
    "    'Random Forest': RandomForestRegressor(),\n",
    "    'Support Vector Regression': SVR()\n",
    "}\n",
    "\n",
    "for name, model in models.items():\n",
    "    print(f\"Training {name}...\")\n",
    "    model.fit(X_train_scaled, y_train)\n",
    "    \n",
    "    y_pred_train = model.predict(X_train_scaled)\n",
    "    y_pred_test = model.predict(X_test_scaled)\n",
    "    \n",
    "    mse_train = mean_squared_error(y_train, y_pred_train)\n",
    "    mse_test = mean_squared_error(y_test, y_pred_test)\n",
    "    \n",
    "    print(f\"{name} - Training MSE: {mse_train}\")\n",
    "    print(f\"{name} - Test MSE: {mse_test}\")\n",
    "    print(\"------\")"
   ]
  }
 ],
 "metadata": {
  "kernelspec": {
   "display_name": "ml",
   "language": "python",
   "name": "python3"
  },
  "language_info": {
   "codemirror_mode": {
    "name": "ipython",
    "version": 3
   },
   "file_extension": ".py",
   "mimetype": "text/x-python",
   "name": "python",
   "nbconvert_exporter": "python",
   "pygments_lexer": "ipython3",
   "version": "3.9.12"
  }
 },
 "nbformat": 4,
 "nbformat_minor": 2
}
